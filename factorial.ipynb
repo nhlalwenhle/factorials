{
 "cells": [
  {
   "cell_type": "code",
   "execution_count": 6,
   "metadata": {},
   "outputs": [
    {
     "name": "stdout",
     "output_type": "stream",
     "text": [
      "Please enter a number: -1\n"
     ]
    }
   ],
   "source": [
    "#import numpy as numpy\n",
    "#import pandas as pd\n",
    "#import unittest\n",
    "\n",
    "#define a function to calculate a factorial.\n",
    "def get_input():\n",
    "    n = eval(input(\"Please enter a number: \"))\n",
    "    return  n\n",
    "\n",
    "def factorial(n):\n",
    "    fact = 1\n",
    "\n",
    "    if n > 0:\n",
    "\n",
    "        for n in range(1, n + 1):\n",
    "\n",
    "            fact *= n\n",
    "        ans= (\"The factorial of \"+str(n)+\" is \"+str(fact))\n",
    "        print(ans)\n",
    "        return ans\n",
    "\n",
    "    elif n <= 0:\n",
    "        #a more helpful error message woudl be useful here (like the one below)\n",
    "        return \"TypeError: 'float' object cannot be interpreted as an integer\"  #these are not getting printed if you want to display them to your user\n",
    "\n",
    "    else:\n",
    "        #currently this just crashes if I enter a string\n",
    "        return \"You have to enter number greater or equal to 0\" #these are not getting printed if you want to display them to your user\n",
    "    \n",
    "if __name__ == '__main__':\n",
    "    i = get_input()\n",
    "    factorial(i)"
   ]
  },
  {
   "cell_type": "code",
   "execution_count": null,
   "metadata": {},
   "outputs": [],
   "source": []
  },
  {
   "cell_type": "code",
   "execution_count": null,
   "metadata": {},
   "outputs": [],
   "source": []
  }
 ],
 "metadata": {
  "kernelspec": {
   "display_name": "Python 3",
   "language": "python",
   "name": "python3"
  },
  "language_info": {
   "codemirror_mode": {
    "name": "ipython",
    "version": 3
   },
   "file_extension": ".py",
   "mimetype": "text/x-python",
   "name": "python",
   "nbconvert_exporter": "python",
   "pygments_lexer": "ipython3",
   "version": "3.7.2"
  }
 },
 "nbformat": 4,
 "nbformat_minor": 2
}
