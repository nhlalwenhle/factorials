{
 "cells": [
  {
   "cell_type": "code",
   "execution_count": 14,
   "metadata": {},
   "outputs": [
    {
     "name": "stderr",
     "output_type": "stream",
     "text": [
      "....."
     ]
    },
    {
     "name": "stdout",
     "output_type": "stream",
     "text": [
      "6\n"
     ]
    },
    {
     "name": "stderr",
     "output_type": "stream",
     "text": [
      "\n",
      "----------------------------------------------------------------------\n",
      "Ran 5 tests in 0.007s\n",
      "\n",
      "OK\n"
     ]
    }
   ],
   "source": [
    "import unittest\n",
    "import import_ipynb\n",
    "from factorial import*\n",
    "import pytest\n",
    "#create a class to test the factorial for validity, function and errors raised.\n",
    "class is_a_factorial(unittest.TestCase):\n",
    "    #define the test for validity or lack thereof when a type error is raised.\n",
    "    def test_invalid(self):\n",
    "        self.assertRaises(TypeError),\"'float' object cannot be interpreted as an integer\"\n",
    "    #Test for the functionality and correctness of the factorial.    \n",
    "    def testRandomNumber(self):\n",
    "        self.assertEqual(factorial(3), 6)\n",
    "    #Test for a negative number in the factorial.     \n",
    "    def test_is_Negative(self):\n",
    "        self.assertEqual(factorial(-7), \"TypeError: 'float' object cannot be interpreted as an integer\")\n",
    "    #Test to test the syntax error  raised when a character (\"%\") is entered into the factorial\n",
    "    def test_Character(self):\n",
    "        self.assertRaises(SyntaxError), \"unexpected EOF while parsing \"\n",
    "    #Test to test the name error  raised when a letter (\"h\") is entered into the factorial.    \n",
    "    def test_for_Letters(self):\n",
    "        self.assertRaises(NameError), 'name \"h\" is not defined'\n",
    "\n",
    "\n",
    "    \n",
    "\n",
    "if __name__ == '__main__':\n",
    "    unittest.main(argv=['first-arg-is-ignored'], exit=False)"
   ]
  },
  {
   "cell_type": "code",
   "execution_count": null,
   "metadata": {},
   "outputs": [],
   "source": []
  },
  {
   "cell_type": "code",
   "execution_count": null,
   "metadata": {},
   "outputs": [],
   "source": []
  }
 ],
 "metadata": {
  "kernelspec": {
   "display_name": "Python 3",
   "language": "python",
   "name": "python3"
  },
  "language_info": {
   "codemirror_mode": {
    "name": "ipython",
    "version": 3
   },
   "file_extension": ".py",
   "mimetype": "text/x-python",
   "name": "python",
   "nbconvert_exporter": "python",
   "pygments_lexer": "ipython3",
   "version": "3.7.3"
  }
 },
 "nbformat": 4,
 "nbformat_minor": 2
}
