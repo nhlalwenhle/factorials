{
 "cells": [
  {
   "cell_type": "code",
   "execution_count": 13,
   "metadata": {},
   "outputs": [
    {
     "name": "stdout",
     "output_type": "stream",
     "text": [
      "Please enter a number: 3\n",
      "6\n"
     ]
    }
   ],
   "source": [
    "#import numpy as numpy\n",
    "#import pandas as pd\n",
    "#import unittest\n",
    "\n",
    "#define a function to calculate a factorial.\n",
    "def get_input():\n",
    "    n = eval(input(\"Please enter a number: \"))\n",
    "    return  n\n",
    "\n",
    "def factorial(n):\n",
    "    fact = 1\n",
    "\n",
    "    if n > 0:\n",
    "\n",
    "        for n in range(1, n + 1):\n",
    "\n",
    "            fact *= n\n",
    "        ans= fact\n",
    "        print(ans)\n",
    "        return ans\n",
    "\n",
    "    elif n <= 0:\n",
    "\n",
    "        return \"TypeError: 'float' object cannot be interpreted as an integer\"  \n",
    "\n",
    "    else:\n",
    "\n",
    "        return \"TypeError: 'float' object cannot be interpreted as an integer\"\n",
    "    \n",
    "if __name__ == '__main__':\n",
    "    i = get_input()\n",
    "    factorial(i)"
   ]
  },
  {
   "cell_type": "code",
   "execution_count": null,
   "metadata": {},
   "outputs": [],
   "source": []
  },
  {
   "cell_type": "code",
   "execution_count": null,
   "metadata": {},
   "outputs": [],
   "source": []
  }
 ],
 "metadata": {
  "kernelspec": {
   "display_name": "Python 3",
   "language": "python",
   "name": "python3"
  },
  "language_info": {
   "codemirror_mode": {
    "name": "ipython",
    "version": 3
   },
   "file_extension": ".py",
   "mimetype": "text/x-python",
   "name": "python",
   "nbconvert_exporter": "python",
   "pygments_lexer": "ipython3",
   "version": "3.7.3"
  }
 },
 "nbformat": 4,
 "nbformat_minor": 2
}
