{
 "cells": [
  {
   "cell_type": "code",
   "execution_count": 2,
   "metadata": {},
   "outputs": [
    {
     "name": "stderr",
     "output_type": "stream",
     "text": [
      "F...F"
     ]
    },
    {
     "name": "stdout",
     "output_type": "stream",
     "text": [
      "The factorial of 3 is 6\n"
     ]
    },
    {
     "name": "stderr",
     "output_type": "stream",
     "text": [
      "\n",
      "======================================================================\n",
      "FAIL: testRandomNumber (__main__.is_a_factorial)\n",
      "----------------------------------------------------------------------\n",
      "Traceback (most recent call last):\n",
      "  File \"<ipython-input-2-4b08bf513616>\", line 13, in testRandomNumber\n",
      "    self.assertEqual(factorial(3), 6)\n",
      "AssertionError: 'The factorial of 3 is 6' != 6\n",
      "\n",
      "======================================================================\n",
      "FAIL: test_is_Negative (__main__.is_a_factorial)\n",
      "----------------------------------------------------------------------\n",
      "Traceback (most recent call last):\n",
      "  File \"<ipython-input-2-4b08bf513616>\", line 16, in test_is_Negative\n",
      "    self.assertEqual(factorial(-7), \"You have to enter number greater or equal to 0\")\n",
      "AssertionError: \"TypeError: 'float' object cannot be interpreted as an integer\" != 'You have to enter number greater or equal to 0'\n",
      "- TypeError: 'float' object cannot be interpreted as an integer\n",
      "+ You have to enter number greater or equal to 0\n",
      "\n",
      "\n",
      "----------------------------------------------------------------------\n",
      "Ran 5 tests in 0.006s\n",
      "\n",
      "FAILED (failures=2)\n"
     ]
    }
   ],
   "source": [
    "import unittest\n",
    "import import_ipynb\n",
    "from factorial import*\n",
    "#import pytest you don't actually use this\n",
    "\n",
    "#create a class to test the factorial for validity, function and errors raised.\n",
    "class is_a_factorial(unittest.TestCase):\n",
    "    #define the test for validity or lack thereof when a type error is raised.\n",
    "    def test_invalid(self):\n",
    "        self.assertRaises(TypeError),\"'float' object cannot be interpreted as an integer\" #you need to provide a testcase\n",
    "    #Test for the functionality and correctness of the factorial.    \n",
    "    def testRandomNumber(self):\n",
    "        self.assertEqual(factorial(3), 6) #you need to give the exact output: 'The factorial of 3 is 6'\n",
    "    #Test for a negative number in the factorial.     \n",
    "    def test_is_Negative(self):\n",
    "        self.assertEqual(factorial(-7), \"You have to enter number greater or equal to 0\")\n",
    "    #Test to test the syntax error  raised when a character (\"%\") is entered into the factorial\n",
    "    def test_Character(self):\n",
    "        self.assertRaises(SyntaxError), \"unexpected EOF while parsing \"  #you need to provide a testcase\n",
    "    #Test to test the name error  raised when a letter (\"h\") is entered into the factorial.    \n",
    "    def test_for_Letters(self):\n",
    "        self.assertRaises(NameError), 'name \"h\" is not defined' #you need to provide a testcase\n",
    "\n",
    "\n",
    "    \n",
    "\n",
    "if __name__ == '__main__':\n",
    "    unittest.main(argv=['first-arg-is-ignored'], exit=False)"
   ]
  },
  {
   "cell_type": "code",
   "execution_count": null,
   "metadata": {},
   "outputs": [],
   "source": []
  },
  {
   "cell_type": "code",
   "execution_count": null,
   "metadata": {},
   "outputs": [],
   "source": []
  }
 ],
 "metadata": {
  "kernelspec": {
   "display_name": "Python 3",
   "language": "python",
   "name": "python3"
  },
  "language_info": {
   "codemirror_mode": {
    "name": "ipython",
    "version": 3
   },
   "file_extension": ".py",
   "mimetype": "text/x-python",
   "name": "python",
   "nbconvert_exporter": "python",
   "pygments_lexer": "ipython3",
   "version": "3.7.2"
  }
 },
 "nbformat": 4,
 "nbformat_minor": 2
}
